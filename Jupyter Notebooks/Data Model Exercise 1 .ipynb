{
 "cells": [
  {
   "cell_type": "code",
   "execution_count": 1,
   "id": "c96fff4a",
   "metadata": {},
   "outputs": [
    {
     "name": "stdout",
     "output_type": "stream",
     "text": [
      "Collecting psycopg2\n",
      "  Downloading psycopg2-2.9.5-cp311-cp311-win_amd64.whl (1.2 MB)\n",
      "     ---------------------------------------- 1.2/1.2 MB 7.4 MB/s eta 0:00:00\n",
      "Installing collected packages: psycopg2\n",
      "Successfully installed psycopg2-2.9.5\n"
     ]
    }
   ],
   "source": [
    "!pip install psycopg2"
   ]
  },
  {
   "cell_type": "code",
   "execution_count": null,
   "id": "c5ba1373",
   "metadata": {},
   "outputs": [],
   "source": [
    " #Import Psycopg2 module To have PostgreSQL Database Adapter in Python."
   ]
  },
  {
   "cell_type": "code",
   "execution_count": 1,
   "id": "db7f9167",
   "metadata": {},
   "outputs": [],
   "source": [
    "import psycopg2 as psy"
   ]
  },
  {
   "cell_type": "code",
   "execution_count": null,
   "id": "2cec2642",
   "metadata": {},
   "outputs": [],
   "source": [
    "# Make Connection With the database and if error print an exception."
   ]
  },
  {
   "cell_type": "code",
   "execution_count": 2,
   "id": "d12be948",
   "metadata": {},
   "outputs": [
    {
     "name": "stdout",
     "output_type": "stream",
     "text": [
      "Connection Successfull!!\n"
     ]
    }
   ],
   "source": [
    "try:\n",
    "    conn = psy.connect(\"host=localhost dbname=postgres user=postgres password=1234\")\n",
    "    print('Connection Successfull!!')\n",
    "except psy.Error as e:\n",
    "    print('Connection To database Not Successfull!!')\n",
    "    print(e)\n",
    "    "
   ]
  },
  {
   "cell_type": "code",
   "execution_count": null,
   "id": "71243fde",
   "metadata": {},
   "outputs": [],
   "source": [
    "# Make cursor using connection. Cursor helps to write SQL queries."
   ]
  },
  {
   "cell_type": "code",
   "execution_count": 3,
   "id": "bd9846fc",
   "metadata": {},
   "outputs": [
    {
     "name": "stdout",
     "output_type": "stream",
     "text": [
      "Cursor Created successfully.\n"
     ]
    }
   ],
   "source": [
    "try:\n",
    "    cur = conn.cursor()\n",
    "    print('Cursor Created successfully.')\n",
    "except psy.Error as e:\n",
    "    print('Cursor Was Not Created.')\n",
    "    print(e)    "
   ]
  },
  {
   "cell_type": "code",
   "execution_count": null,
   "id": "35c9c887",
   "metadata": {},
   "outputs": [],
   "source": [
    "# Set Auto Commit As True So that we don't need to run conn.commit() always after running a query."
   ]
  },
  {
   "cell_type": "code",
   "execution_count": 4,
   "id": "cb0d65e9",
   "metadata": {},
   "outputs": [],
   "source": [
    "conn.set_session(autocommit=True)"
   ]
  },
  {
   "cell_type": "code",
   "execution_count": null,
   "id": "19eee0c1",
   "metadata": {},
   "outputs": [],
   "source": [
    "# Create Database using cursor and execute method."
   ]
  },
  {
   "cell_type": "code",
   "execution_count": 5,
   "id": "177e3fd1",
   "metadata": {},
   "outputs": [
    {
     "name": "stdout",
     "output_type": "stream",
     "text": [
      "database \"db1\" already exists\n",
      "\n"
     ]
    }
   ],
   "source": [
    "try:\n",
    "    cur.execute(\"create database db1\")\n",
    "except psy.Error as e:\n",
    "    print(e)"
   ]
  },
  {
   "cell_type": "code",
   "execution_count": null,
   "id": "8f63f52d",
   "metadata": {},
   "outputs": [],
   "source": [
    "# Close the connection to postgres database."
   ]
  },
  {
   "cell_type": "code",
   "execution_count": 6,
   "id": "961858f3",
   "metadata": {},
   "outputs": [],
   "source": [
    "try:\n",
    "    conn.close()\n",
    "except psy.Error as e:\n",
    "    print(e)"
   ]
  },
  {
   "cell_type": "code",
   "execution_count": null,
   "id": "d6b15efb",
   "metadata": {},
   "outputs": [],
   "source": [
    "# Create New connection to new created database."
   ]
  },
  {
   "cell_type": "code",
   "execution_count": 7,
   "id": "3177ef72",
   "metadata": {},
   "outputs": [
    {
     "name": "stdout",
     "output_type": "stream",
     "text": [
      "Connection To database db1 is successfull!!\n"
     ]
    }
   ],
   "source": [
    "try:\n",
    "    conn = psy.connect(\"host=localhost dbname=db1 user=postgres password=1234\")\n",
    "    print('Connection To database db1 is successfull!!')\n",
    "except psy.Error as e:\n",
    "    print('Connection Not Successfull!!')\n",
    "    print(e)"
   ]
  },
  {
   "cell_type": "code",
   "execution_count": null,
   "id": "8b25da80",
   "metadata": {},
   "outputs": [],
   "source": [
    "# Create New Cursor and set Autocommit True"
   ]
  },
  {
   "cell_type": "code",
   "execution_count": 8,
   "id": "896f6754",
   "metadata": {},
   "outputs": [],
   "source": [
    "try:\n",
    "    cur = conn.cursor()\n",
    "except psy.Error as e:\n",
    "    print(e)\n",
    "    \n",
    "conn.set_session(autocommit=True)"
   ]
  },
  {
   "cell_type": "code",
   "execution_count": null,
   "id": "32f306e8",
   "metadata": {},
   "outputs": [],
   "source": [
    "# Create New Table Named Student \n",
    "\n",
    "#Columns: \n",
    "\n",
    "# s_id\n",
    "# name\n",
    "# age\n",
    "# gender\n",
    "# subject\n",
    "# marks\n",
    "\n",
    "# To check table created or not go to SQL shell \n",
    "# 1. connect with database db1 type : \\c db1;\n",
    "# 2. \\d student;"
   ]
  },
  {
   "cell_type": "code",
   "execution_count": 20,
   "id": "3dc1b76e",
   "metadata": {},
   "outputs": [],
   "source": [
    "try:\n",
    "    cur.execute(\"CREATE TABLE IF NOT EXISTS student(s_id int,name varchar(20),age int,gender varchar(20),subject varchar(20),marks int);\")\n",
    "except psy.Error as e:\n",
    "    print(e)"
   ]
  },
  {
   "cell_type": "code",
   "execution_count": null,
   "id": "64134b12",
   "metadata": {},
   "outputs": [],
   "source": [
    "# Insert Records in Student Table."
   ]
  },
  {
   "cell_type": "code",
   "execution_count": null,
   "id": "3701110c",
   "metadata": {},
   "outputs": [],
   "source": [
    "try:\n",
    "    cur.execute(\"insert into student values(101,'Nishant',21,'Male','MML',90);\")\n",
    "    cur.execute(\"insert into student values(102,'Sayali',23,'Female','DWDM',92);\")\n",
    "except psy.Error as e:\n",
    "    print(e)"
   ]
  },
  {
   "cell_type": "code",
   "execution_count": null,
   "id": "b259defc",
   "metadata": {},
   "outputs": [],
   "source": [
    "# Validate Whether data is been entered in student table or not."
   ]
  },
  {
   "cell_type": "code",
   "execution_count": 9,
   "id": "468b48f3",
   "metadata": {},
   "outputs": [
    {
     "name": "stdout",
     "output_type": "stream",
     "text": [
      "(101, 'Nishant', 21, 'Male', 'MML', 90)\n",
      "(102, 'Sayali', 23, 'Female', 'DWDM', 92)\n"
     ]
    }
   ],
   "source": [
    "try:\n",
    "    cur.execute('select * from student;')\n",
    "except psy.Error as e:\n",
    "    print(e)\n",
    "    \n",
    "row = cur.fetchone()\n",
    "while row:\n",
    "    print(row)\n",
    "    row = cur.fetchone()"
   ]
  },
  {
   "cell_type": "code",
   "execution_count": null,
   "id": "aaeae5b7",
   "metadata": {},
   "outputs": [],
   "source": [
    "# Close Connection and Cursor"
   ]
  },
  {
   "cell_type": "code",
   "execution_count": 10,
   "id": "b0a86835",
   "metadata": {},
   "outputs": [],
   "source": [
    "cur.close()\n",
    "conn.close()"
   ]
  },
  {
   "cell_type": "code",
   "execution_count": null,
   "id": "10146041",
   "metadata": {},
   "outputs": [],
   "source": []
  }
 ],
 "metadata": {
  "kernelspec": {
   "display_name": "Python 3 (ipykernel)",
   "language": "python",
   "name": "python3"
  },
  "language_info": {
   "codemirror_mode": {
    "name": "ipython",
    "version": 3
   },
   "file_extension": ".py",
   "mimetype": "text/x-python",
   "name": "python",
   "nbconvert_exporter": "python",
   "pygments_lexer": "ipython3",
   "version": "3.11.0"
  }
 },
 "nbformat": 4,
 "nbformat_minor": 5
}
